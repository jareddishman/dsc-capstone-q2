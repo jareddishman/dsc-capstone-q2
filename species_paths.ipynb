{
 "cells": [
  {
   "cell_type": "code",
   "execution_count": null,
   "metadata": {},
   "outputs": [],
   "source": [
    "import pandas as pd\n",
    "df = pd.read_csv('assembly_summary_refseq.txt',sep='\\t',skiprows=1)"
   ]
  },
  {
   "cell_type": "code",
   "execution_count": null,
   "metadata": {},
   "outputs": [],
   "source": [
    "dep_df = df[['organism_name','taxid','species_taxid','ftp_path']]\n",
    "dep_df = dep_df.drop_duplicates(subset='species_taxid').dropna(subset=['ftp_path'])\n",
    "gcf_index = dep_df['ftp_path'][0].find('GCF_') - 1\n",
    "dep_df['ftp_path'] = dep_df['ftp_path'].str.replace('https://ftp.ncbi.nlm.nih.gov/genomes/all', '/projects/greengenes2/gg2_genomes/ncbi')\n",
    "dep_df['ftp_path'] = dep_df['ftp_path'].str.cat(dep_df['ftp_path'].str[dep_df['ftp_path'][0].find('/GCF_'):] + '_protein.faa.gz', sep='')"
   ]
  }
 ],
 "metadata": {
  "kernelspec": {
   "display_name": "base",
   "language": "python",
   "name": "python3"
  },
  "language_info": {
   "codemirror_mode": {
    "name": "ipython",
    "version": 3
   },
   "file_extension": ".py",
   "mimetype": "text/x-python",
   "name": "python",
   "nbconvert_exporter": "python",
   "pygments_lexer": "ipython3",
   "version": "3.9.13"
  }
 },
 "nbformat": 4,
 "nbformat_minor": 2
}
