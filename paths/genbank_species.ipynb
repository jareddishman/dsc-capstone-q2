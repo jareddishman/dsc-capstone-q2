{
 "cells": [
  {
   "cell_type": "code",
   "execution_count": null,
   "metadata": {},
   "outputs": [],
   "source": [
    "import pandas as pd\n",
    "df = pd.read_csv('assembly_summary_genbank.txt',sep='\\t',skiprows=1)"
   ]
  },
  {
   "cell_type": "code",
   "execution_count": null,
   "metadata": {},
   "outputs": [],
   "source": [
    "dep_df = df[['organism_name','taxid','species_taxid','ftp_path']]\n",
    "dep_df = dep_df.drop_duplicates(subset='species_taxid').dropna(subset=['ftp_path'])\n",
    "dep_df['ftp_path'] = dep_df['ftp_path'].str.replace('https://ftp.ncbi.nlm.nih.gov/genomes/all', '/projects/greengenes2/gg2_genomes/ncbi')\n",
    "dep_df['ftp_path'] = dep_df['ftp_path'].str.cat(dep_df['ftp_path'].str[dep_df['ftp_path'][0].find('/GCA_'):] + '_protein.faa.gz', sep='')"
   ]
  }
 ],
 "metadata": {
  "kernelspec": {
   "display_name": "base",
   "language": "python",
   "name": "python3"
  },
  "language_info": {
   "name": "python",
   "version": "3.9.13"
  }
 },
 "nbformat": 4,
 "nbformat_minor": 2
}
